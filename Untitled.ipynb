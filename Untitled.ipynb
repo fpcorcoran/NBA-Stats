{
 "cells": [
  {
   "cell_type": "code",
   "execution_count": 3,
   "metadata": {},
   "outputs": [],
   "source": [
    "from bs4 import BeautifulSoup as bs\n",
    "import requests\n",
    "import pandas as pd\n",
    "import numpy as np"
   ]
  },
  {
   "cell_type": "code",
   "execution_count": 86,
   "metadata": {},
   "outputs": [],
   "source": [
    "class Data:\n",
    "\n",
    "    class player:\n",
    "        \n",
    "        def __init__(self, player_name):\n",
    "            self.player_name = player_name\n",
    "            self._URL = \"https://www.basketball-reference.com/players/\"\n",
    "            \n",
    "        def fetch(self):\n",
    "            #flip the player's name (e.g. \"Michael Jordan\" -> [\"Jordan\", \"Michael\"])\n",
    "            inv_player_name = self.player_name.lower().split(\" \")[::-1]\n",
    "            \n",
    "            #create an url extension from the player name (\"j/jordami01.html\")\n",
    "            player_tag = inv_player_name[0][0]+\"/\"+inv_player_name[0][0:5]+inv_player_name[1][0:2]+\"01.html\"\n",
    "\n",
    "            #create the full url (\"https://www.basketball-reference.com/players/j/jordami01.html\")\n",
    "            _FULL_URL = self._URL + player_tag\n",
    "\n",
    "            #make a request to the page and report status of response\n",
    "            response = requests.get(_FULL_URL)\n",
    "            print(\"<status: \"+str(response.status_code)+\">\")\n",
    "\n",
    "            #parse the raw html\n",
    "            soup = bs(response.content, \"html.parser\")\n",
    "\n",
    "            #find all the tables\n",
    "            tables = soup.findAll(\"div\", {\"class\": \"table_wrapper\"})\n",
    "\n",
    "            #find the schema for the data table\n",
    "            schema = list(set([d.get(\"data-stat\") for d in tables[0].findAll(\"td\")]))\n",
    "\n",
    "            #initialize a dictionary of empty lists mapped to the schema\n",
    "            stats = {}\n",
    "            for s in schema:\n",
    "                stats[s] = []\n",
    "                \n",
    "            #add the data from each tag to the appropriate list\n",
    "            for d in tables[0].findAll(\"td\"):\n",
    "                if str(d.string)[0].isdigit(): #or str(d.string[0]).isdecimal():\n",
    "                    value = float(d.string) \n",
    "                else:\n",
    "                    value = d.string\n",
    "                \n",
    "                stats[d.get(\"data-stat\")].append(value)\n",
    "                \n",
    "            #remove the last entry from the data (i.e. the b-ref's \"Totals\" row)\n",
    "            for s in schema:\n",
    "                stats[s].pop()\n",
    "                \n",
    "            #create a dataframe from data\n",
    "            stats_df = pd.DataFrame.from_dict(stats)\n",
    "            \n",
    "            #!!!!!!! - remove all aggregation rows \n",
    "            #(these rows will not show the age of the player or the league id)\n",
    "            #THIS IS NOT WORKING\n",
    "            stats_df.drop(stats_df[stats_df[\"age\"] == None].index, inplace=True)\n",
    "        \n",
    "            return stats_df"
   ]
  },
  {
   "cell_type": "code",
   "execution_count": 89,
   "metadata": {},
   "outputs": [
    {
     "name": "stdout",
     "output_type": "stream",
     "text": [
      "<status: 200>\n"
     ]
    },
    {
     "data": {
      "text/plain": [
       "nan"
      ]
     },
     "execution_count": 89,
     "metadata": {},
     "output_type": "execute_result"
    }
   ],
   "source": [
    "player = Data.player(\"patrick ewing\").fetch()\n",
    "np.sum(player[\"gs\"].values)"
   ]
  },
  {
   "cell_type": "code",
   "execution_count": null,
   "metadata": {},
   "outputs": [],
   "source": []
  },
  {
   "cell_type": "code",
   "execution_count": null,
   "metadata": {},
   "outputs": [],
   "source": []
  },
  {
   "cell_type": "code",
   "execution_count": null,
   "metadata": {},
   "outputs": [],
   "source": []
  },
  {
   "cell_type": "code",
   "execution_count": null,
   "metadata": {},
   "outputs": [],
   "source": []
  },
  {
   "cell_type": "code",
   "execution_count": null,
   "metadata": {
    "scrolled": true
   },
   "outputs": [],
   "source": []
  },
  {
   "cell_type": "code",
   "execution_count": null,
   "metadata": {},
   "outputs": [],
   "source": []
  },
  {
   "cell_type": "code",
   "execution_count": 69,
   "metadata": {},
   "outputs": [],
   "source": [
    "test = \".hello\""
   ]
  },
  {
   "cell_type": "code",
   "execution_count": 71,
   "metadata": {},
   "outputs": [
    {
     "data": {
      "text/plain": [
       "True"
      ]
     },
     "execution_count": 71,
     "metadata": {},
     "output_type": "execute_result"
    }
   ],
   "source": [
    "test[0].isdecimal()"
   ]
  },
  {
   "cell_type": "code",
   "execution_count": null,
   "metadata": {},
   "outputs": [],
   "source": []
  },
  {
   "cell_type": "code",
   "execution_count": null,
   "metadata": {},
   "outputs": [],
   "source": []
  },
  {
   "cell_type": "code",
   "execution_count": null,
   "metadata": {},
   "outputs": [],
   "source": []
  },
  {
   "cell_type": "code",
   "execution_count": null,
   "metadata": {},
   "outputs": [],
   "source": []
  }
 ],
 "metadata": {
  "kernelspec": {
   "display_name": "Python 3",
   "language": "python",
   "name": "python3"
  },
  "language_info": {
   "codemirror_mode": {
    "name": "ipython",
    "version": 3
   },
   "file_extension": ".py",
   "mimetype": "text/x-python",
   "name": "python",
   "nbconvert_exporter": "python",
   "pygments_lexer": "ipython3",
   "version": "3.6.7"
  }
 },
 "nbformat": 4,
 "nbformat_minor": 2
}
